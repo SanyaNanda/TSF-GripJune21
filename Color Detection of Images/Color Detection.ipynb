{
 "cells": [
  {
   "cell_type": "markdown",
   "metadata": {},
   "source": [
    "# Color Identification in Images\n",
    "## Sanya Nanda"
   ]
  },
  {
   "cell_type": "markdown",
   "metadata": {},
   "source": [
    "### Implement an image color detector which identifies all the colors in an image"
   ]
  },
  {
   "cell_type": "code",
   "execution_count": 1,
   "metadata": {},
   "outputs": [],
   "source": [
    "# importing required libraries and the images\n",
    "import cv2\n",
    "import numpy as np\n",
    "import pandas as pd\n",
    "from sklearn.cluster import KMeans\n",
    "from collections import Counter\n",
    "import matplotlib.pyplot as plt\n",
    "\n",
    "img_path = \"/home/tapli/TSF-GripJune21/color1.jpg\"\n",
    "img = cv2.imread(img_path)\n",
    "img_path1 = \"/home/tapli/TSF-GripJune21/color2.jpg\"\n",
    "img1 = cv2.imread(img_path1)"
   ]
  },
  {
   "cell_type": "code",
   "execution_count": 2,
   "metadata": {},
   "outputs": [],
   "source": [
    "# resizing the images and intializing required variables\n",
    "img=cv2.resize(img,(700,500))\n",
    "img1=cv2.resize(img1,(700,500))\n",
    "clicked = False\n",
    "r = g = b = xpos = ypos = 0"
   ]
  },
  {
   "cell_type": "code",
   "execution_count": 3,
   "metadata": {},
   "outputs": [],
   "source": [
    "# importing the color csv that contains names of most of the colors with their hex and RGB code\n",
    "index=[\"color\",\"color_name\",\"hex\",\"R\",\"G\",\"B\"]\n",
    "csv = pd.read_csv(\"color.csv\", names=index, header=None)"
   ]
  },
  {
   "cell_type": "code",
   "execution_count": 4,
   "metadata": {},
   "outputs": [],
   "source": [
    "# On double clicking anwhere on the picture, we get the x, y coordinates and the RGB values at that position.\n",
    "def draw_function(event, x,y,flags,param):\n",
    "    if event == cv2.EVENT_LBUTTONDBLCLK:\n",
    "        global b,g,r,xpos,ypos, clicked\n",
    "        clicked = True\n",
    "        xpos = x\n",
    "        ypos = y\n",
    "        b,g,r = img[y,x]\n",
    "        b = int(b)\n",
    "        g = int(g)\n",
    "        r = int(r)"
   ]
  },
  {
   "cell_type": "code",
   "execution_count": 5,
   "metadata": {},
   "outputs": [],
   "source": [
    "# Finds the color in our csv file which is closest to the color that we have clicked on, returns the name of the \n",
    "# color detected \n",
    "def getColorName(R,G,B):\n",
    "    minimum = 10000\n",
    "    for i in range(len(csv)):\n",
    "        d = abs(R- int(csv.loc[i,\"R\"])) + abs(G-int(csv.loc[i,\"G\"]))+ abs(B- int(csv.loc[i,\"B\"]))\n",
    "        if(d<=minimum):\n",
    "            minimum = d\n",
    "            cname = csv.loc[i,\"color_name\"]\n",
    "    return cname"
   ]
  },
  {
   "cell_type": "code",
   "execution_count": 6,
   "metadata": {},
   "outputs": [],
   "source": [
    "def color_detect(img):\n",
    "    cv2.namedWindow('color detection')\n",
    "    #cv2. setWindowProperty ('color detection', cv2. WND_PROP_FULLSCREEN, cv2.WINDOW_FULLSCREEN)\n",
    "    \n",
    "    # let's the user interact with the image using the mouse. In this case the event is double click\n",
    "    cv2.setMouseCallback('color detection',draw_function)\n",
    "    \n",
    "    global clicked\n",
    "    while(1):\n",
    "        cv2.imshow(\"color detection\",img)\n",
    "        if (clicked):\n",
    "\n",
    "            #cv2.rectangle(image, startpoint, endpoint, color, thickness)-1 fills entire rectangle \n",
    "            cv2.rectangle(img,(20,20), (750,60), (b,g,r), -1)\n",
    "\n",
    "            #Creating text string to display Color name and RGB values on the window\n",
    "            text = getColorName(r,g,b) + ' R='+ str(r) +  ' G='+ str(g) +  ' B='+ str(b)\n",
    "\n",
    "            #cv2.putText(img,text,start,font(0-7),fontScale,color,thickness,lineType)\n",
    "            cv2.putText(img, text,(50,50),2,0.8,(255,255,255),2,cv2.LINE_AA)\n",
    "\n",
    "            #For very light colors text will be displayed in black \n",
    "            if(r+g+b>=600):\n",
    "                cv2.putText(img, text,(50,50),2,0.8,(0,0,0),2,cv2.LINE_AA)\n",
    "\n",
    "            clicked=False\n",
    "\n",
    "        if cv2.waitKey(20) & 0xFF ==27:\n",
    "            break\n",
    "    cv2.destroyAllWindows()"
   ]
  },
  {
   "cell_type": "code",
   "execution_count": 7,
   "metadata": {},
   "outputs": [],
   "source": [
    "color_detect(img)"
   ]
  },
  {
   "cell_type": "code",
   "execution_count": 8,
   "metadata": {},
   "outputs": [],
   "source": [
    "color_detect(img1)"
   ]
  },
  {
   "cell_type": "code",
   "execution_count": 8,
   "metadata": {},
   "outputs": [],
   "source": [
    "# converts image from bgr to rgb\n",
    "def get_image(image_path):\n",
    "    image=cv2.imread(image_path)\n",
    "    image=cv2.cvtColor(image, cv2.COLOR_BGR2RGB)\n",
    "    return image"
   ]
  },
  {
   "cell_type": "code",
   "execution_count": 9,
   "metadata": {},
   "outputs": [],
   "source": [
    "# returns the color code in hex\n",
    "def RGB2HEX(color):\n",
    "    return \"#{:02x}{:02x}{:02x}\".format(int(color[0]), int(color[1]), int(color[2]))"
   ]
  },
  {
   "cell_type": "code",
   "execution_count": 10,
   "metadata": {},
   "outputs": [],
   "source": [
    "# returns the color code values in RGB\n",
    "def hex_to_rgb(value):\n",
    "    value = value.lstrip('#')\n",
    "    lv = len(value)\n",
    "    return tuple(int(value[i:i + lv // 3], 16) for i in range(0, lv, lv // 3))"
   ]
  },
  {
   "cell_type": "code",
   "execution_count": 11,
   "metadata": {},
   "outputs": [],
   "source": [
    "# employs KMeans clustering: unsupervised ML, to plot the top most common colors in the image\n",
    "def get_colors(img,no_of_colors):\n",
    "    modified_image = cv2.resize(img, (600, 400), interpolation = cv2.INTER_AREA)\n",
    "    modified_image = modified_image.reshape(modified_image.shape[0]*modified_image.shape[1], 3)\n",
    "\n",
    "    clf = KMeans(n_clusters = no_of_colors)\n",
    "    labels = clf.fit_predict(modified_image)\n",
    "\n",
    "    counts = Counter(labels)\n",
    "    center_colors = clf.cluster_centers_\n",
    "    \n",
    "    # We get ordered colors by iterating through the keys\n",
    "    ordered_colors = [center_colors[i] for i in counts.keys()]\n",
    "    hex_colors = [RGB2HEX(ordered_colors[i]) for i in counts.keys()]\n",
    "    print(hex_colors)\n",
    "    h=[getColorName(hex_to_rgb(i)[0],hex_to_rgb(i)[1],hex_to_rgb(i)[2]) for i in hex_colors]\n",
    "    print(h)\n",
    "    rgb_colors = [ordered_colors[i] for i in counts.keys()]\n",
    "\n",
    "    plt.figure(figsize = (8, 6))\n",
    "    plt.pie(counts.values(), labels = h, colors = hex_colors)"
   ]
  },
  {
   "cell_type": "code",
   "execution_count": 12,
   "metadata": {},
   "outputs": [
    {
     "name": "stdout",
     "output_type": "stream",
     "text": [
      "['#de4841', '#1e69bc', '#60dac1', '#f3ebd5', '#ebc93f', '#935d8e', '#e0b0a7', '#3d2b38']\n",
      "['Carmine Pink', 'Denim', 'Medium Aquamarine', 'Eggshell', 'Sandstorm', 'Antique Fuchsia', 'Pale Chestnut', 'Black Olive']\n"
     ]
    },
    {
     "data": {
      "image/png": "[encoded data removed]",
      "text/plain": [
       "<Figure size 576x432 with 1 Axes>"
      ]
     },
     "metadata": {},
     "output_type": "display_data"
    }
   ],
   "source": [
    "get_colors(get_image(img_path), 8)"
   ]
  },
  {
   "cell_type": "code",
   "execution_count": null,
   "metadata": {},
   "outputs": [],
   "source": [
    "get_colors(get_image(img_path1), 8)"
   ]
  }
 ],
 "metadata": {
  "kernelspec": {
   "display_name": "Python 3",
   "language": "python",
   "name": "python3"
  },
  "language_info": {
   "codemirror_mode": {
    "name": "ipython",
    "version": 3
   },
   "file_extension": ".py",
   "mimetype": "text/x-python",
   "name": "python",
   "nbconvert_exporter": "python",
   "pygments_lexer": "ipython3",
   "version": "3.7.3"
  }
 },
 "nbformat": 4,
 "nbformat_minor": 2
}
